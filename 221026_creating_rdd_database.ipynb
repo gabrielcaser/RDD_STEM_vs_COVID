{
 "cells": [
  {
   "cell_type": "markdown",
   "metadata": {},
   "source": [
    "# Objetivo"
   ]
  },
  {
   "cell_type": "markdown",
   "metadata": {},
   "source": [
    "- During the COVID-19 crisis, several politicians used the \"I'm following science\" argument to justify their public policy decisions.\n",
    "\n",
    "- My premise is that mayors who have worked throughout their lives in science and technology and related fields, known as STEM (Science, Technology, Engineering, and Math), would be the most likely to \"follow the science\" in their decision-making;\n",
    "\n",
    "- I hypothesize that mayors with a \"STEM background\" would respond better to the challenges of the pandemic, reducing negative indicators, such as contagion and deaths;\n",
    "\n",
    "- The following document seeks to create a suitable data frame for performing a data frame test of this hypothesis. Therefore, using Python, I searched through the TSE database for candidates elected in 2016 and 2020 who have worked with STEM throughout their lives (RAIS).\n",
    "\n",
    "- Finally, using R and a Discontinuous Regression (RDD) model, I estimate the impact of electing a STEM candidate on cases and deaths caused by COVID. I found that having a STEM background did cause a lower rate of infections and deaths caused by COVID.\n",
    "\n",
    "  -Primary Sources: RAIS, Database, Brazil IO\n",
    "\n",
    "  -Secondary Sources: TSE, State Health Departments"
   ]
  },
  {
   "cell_type": "markdown",
   "metadata": {},
   "source": [
    "# Configurando o ambiente"
   ]
  },
  {
   "cell_type": "code",
   "execution_count": 1,
   "metadata": {},
   "outputs": [],
   "source": [
    "import pandas as pd\n",
    "import matplotlib.pyplot as plt\n",
    "import re\n",
    "import seaborn as sns\n",
    "import basedosdados as bd"
   ]
  },
  {
   "cell_type": "markdown",
   "metadata": {},
   "source": [
    "# Procurando profissões STEM"
   ]
  },
  {
   "cell_type": "code",
   "execution_count": 2,
   "metadata": {},
   "outputs": [],
   "source": [
    "cbos_stem = \"1223 1236 1237 1413 1425 1426 2011 2012 2021 2030 2031 2032 2033 2034 2111 2112 2122 2123 2124 2131 2132 2133 2134 2140 2142 2143 2144 2145 2146 2147 2148 2149 2211 2212 2221 2222 2341 2342 2343 2344 2513 3001 3003 3011 3012 3111 3112 3115 3121 3122 3123 3161 3171 3172 3180 3181 3182 3183 3185 3186 3187 3201 3212 3253 3951\""
   ]
  },
  {
   "cell_type": "markdown",
   "metadata": {},
   "source": [
    "- fonte: Machado et all 2021"
   ]
  },
  {
   "cell_type": "code",
   "execution_count": 3,
   "metadata": {},
   "outputs": [],
   "source": [
    "cbos_stem = tuple(cbos_stem.split(\" \"))"
   ]
  },
  {
   "cell_type": "code",
   "execution_count": 4,
   "metadata": {},
   "outputs": [
    {
     "name": "stderr",
     "output_type": "stream",
     "text": [
      "Downloading: 100%|███████████████████████████████████████████████████████████████| 536/536 [00:00<00:00, 1506.74rows/s]\n"
     ]
    }
   ],
   "source": [
    "query = \"\"\" SELECT * FROM `basedosdados.br_ibge_cbo_2002.sinonimo`\n",
    "            WHERE SUBSTRING(cbo_2002, 0, 4) IN {} \"\"\".format(cbos_stem)\n",
    "\n",
    "cbos = bd.read_sql(query, billing_project_id= \"econometria-314719\")"
   ]
  },
  {
   "cell_type": "code",
   "execution_count": 5,
   "metadata": {},
   "outputs": [
    {
     "data": {
      "text/html": [
       "<div>\n",
       "<style scoped>\n",
       "    .dataframe tbody tr th:only-of-type {\n",
       "        vertical-align: middle;\n",
       "    }\n",
       "\n",
       "    .dataframe tbody tr th {\n",
       "        vertical-align: top;\n",
       "    }\n",
       "\n",
       "    .dataframe thead th {\n",
       "        text-align: right;\n",
       "    }\n",
       "</style>\n",
       "<table border=\"1\" class=\"dataframe\">\n",
       "  <thead>\n",
       "    <tr style=\"text-align: right;\">\n",
       "      <th></th>\n",
       "      <th>cbo_2002</th>\n",
       "      <th>sinonimo</th>\n",
       "    </tr>\n",
       "  </thead>\n",
       "  <tbody>\n",
       "    <tr>\n",
       "      <th>531</th>\n",
       "      <td>321210</td>\n",
       "      <td>Técnico silvicultor</td>\n",
       "    </tr>\n",
       "    <tr>\n",
       "      <th>532</th>\n",
       "      <td>395105</td>\n",
       "      <td>Técnico de apoio em pesquisa e desenvolvimento...</td>\n",
       "    </tr>\n",
       "    <tr>\n",
       "      <th>533</th>\n",
       "      <td>395105</td>\n",
       "      <td>Técnico de apoio em pesquisa e desenvolvimento...</td>\n",
       "    </tr>\n",
       "    <tr>\n",
       "      <th>534</th>\n",
       "      <td>395105</td>\n",
       "      <td>Técnico de apoio em pesquisa e desenvolvimento...</td>\n",
       "    </tr>\n",
       "    <tr>\n",
       "      <th>535</th>\n",
       "      <td>395105</td>\n",
       "      <td>Técnico de apoio em pesquisa e desenvolvimento...</td>\n",
       "    </tr>\n",
       "  </tbody>\n",
       "</table>\n",
       "</div>"
      ],
      "text/plain": [
       "    cbo_2002                                           sinonimo\n",
       "531   321210                                Técnico silvicultor\n",
       "532   395105  Técnico de apoio em pesquisa e desenvolvimento...\n",
       "533   395105  Técnico de apoio em pesquisa e desenvolvimento...\n",
       "534   395105  Técnico de apoio em pesquisa e desenvolvimento...\n",
       "535   395105  Técnico de apoio em pesquisa e desenvolvimento..."
      ]
     },
     "execution_count": 5,
     "metadata": {},
     "output_type": "execute_result"
    }
   ],
   "source": [
    "cbos.tail(5)"
   ]
  },
  {
   "cell_type": "code",
   "execution_count": 6,
   "metadata": {},
   "outputs": [
    {
     "name": "stderr",
     "output_type": "stream",
     "text": [
      "Downloading: 100%|████████████████████████████████████████████████████████████| 7720/7720 [00:00<00:00, 11412.23rows/s]\n"
     ]
    },
    {
     "data": {
      "text/plain": [
       "7720"
      ]
     },
     "execution_count": 6,
     "metadata": {},
     "output_type": "execute_result"
    }
   ],
   "source": [
    "query = \"\"\" SELECT * FROM `basedosdados.br_ibge_cbo_2002.sinonimo`\n",
    "            \"\"\"\n",
    "\n",
    "total_cbos = bd.read_sql(query, billing_project_id= \"econometria-314719\")\n",
    "\n",
    "len(total_cbos)"
   ]
  },
  {
   "cell_type": "code",
   "execution_count": 7,
   "metadata": {},
   "outputs": [
    {
     "data": {
      "text/plain": [
       "0.0694300518134715"
      ]
     },
     "execution_count": 7,
     "metadata": {},
     "output_type": "execute_result"
    }
   ],
   "source": [
    "len(cbos)/len(total_cbos)"
   ]
  },
  {
   "cell_type": "markdown",
   "metadata": {},
   "source": [
    "- 7% das profissões do Brasil são, portanto, classificadas como STEM. Parece algo crível"
   ]
  },
  {
   "cell_type": "markdown",
   "metadata": {},
   "source": [
    "# Procurando Candidatos STEM"
   ]
  },
  {
   "cell_type": "markdown",
   "metadata": {},
   "source": [
    "## Procurando candidatos eleitos na BD+"
   ]
  },
  {
   "cell_type": "code",
   "execution_count": 8,
   "metadata": {},
   "outputs": [
    {
     "name": "stderr",
     "output_type": "stream",
     "text": [
      "Downloading: 100%|███████████████████████████████████████████████████████████| 18131/18131 [00:05<00:00, 3198.76rows/s]\n"
     ]
    }
   ],
   "source": [
    "query = \"\"\" SELECT\n",
    "                resultados.ano,\n",
    "                resultados.turno,\n",
    "                resultados.sigla_uf,\n",
    "                resultados.id_municipio,\n",
    "                resultados.id_municipio_tse,\n",
    "                resultados.cargo,\n",
    "                resultados.sigla_partido,\n",
    "                resultados.id_candidato_bd,\n",
    "                resultados.resultado,\n",
    "                resultados.votos,\n",
    "                candidatos.cpf,\n",
    "                candidatos.nome,\n",
    "                candidatos.ocupacao,\n",
    "                candidatos.idade,\n",
    "                candidatos.genero,\n",
    "                candidatos.instrucao            \n",
    "            FROM `basedosdados.br_tse_eleicoes.candidatos` candidatos\n",
    "            INNER JOIN `basedosdados.br_tse_eleicoes.resultados_candidato` resultados\n",
    "            ON candidatos.id_candidato_bd = resultados.id_candidato_bd\n",
    "            WHERE candidatos.cargo = 'prefeito'\n",
    "            AND resultados.tipo_eleicao = 'eleicao ordinaria'\n",
    "            AND resultados.ano = 2020\n",
    "            AND candidatos.ano = 2020\"\"\"\n",
    "\n",
    "eleitos = bd.read_sql(query, billing_project_id= \"econometria-314719\")"
   ]
  },
  {
   "cell_type": "code",
   "execution_count": 9,
   "metadata": {},
   "outputs": [
    {
     "data": {
      "text/plain": [
       "18131"
      ]
     },
     "execution_count": 9,
     "metadata": {},
     "output_type": "execute_result"
    }
   ],
   "source": [
    "len(eleitos)"
   ]
  },
  {
   "cell_type": "code",
   "execution_count": 10,
   "metadata": {},
   "outputs": [],
   "source": [
    "eleitos = eleitos.drop_duplicates(subset = 'id_candidato_bd', keep=\"first\")"
   ]
  },
  {
   "cell_type": "code",
   "execution_count": 11,
   "metadata": {},
   "outputs": [
    {
     "data": {
      "text/plain": [
       "18004"
      ]
     },
     "execution_count": 11,
     "metadata": {},
     "output_type": "execute_result"
    }
   ],
   "source": [
    "len(eleitos)"
   ]
  },
  {
   "cell_type": "markdown",
   "metadata": {},
   "source": [
    "### Pegando primeiro e segundo colocados"
   ]
  },
  {
   "cell_type": "code",
   "execution_count": 12,
   "metadata": {},
   "outputs": [
    {
     "data": {
      "text/plain": [
       "65       1302603\n",
       "10535    1302603\n",
       "Name: id_municipio, dtype: object"
      ]
     },
     "execution_count": 12,
     "metadata": {},
     "output_type": "execute_result"
    }
   ],
   "source": [
    "eleitos[eleitos[\"turno\"] == 2][\"id_municipio\"]"
   ]
  },
  {
   "cell_type": "code",
   "execution_count": 13,
   "metadata": {},
   "outputs": [],
   "source": [
    "eleitos[\"teve_2_turno\"] = eleitos[\"id_municipio\"].apply(lambda x: 1 if x in list(eleitos[eleitos[\"turno\"] == 2][\"id_municipio\"]) else 0)"
   ]
  },
  {
   "cell_type": "code",
   "execution_count": 14,
   "metadata": {},
   "outputs": [
    {
     "data": {
      "text/plain": [
       "18002"
      ]
     },
     "execution_count": 14,
     "metadata": {},
     "output_type": "execute_result"
    }
   ],
   "source": [
    "len(eleitos[eleitos[\"teve_2_turno\"] == 0])"
   ]
  },
  {
   "cell_type": "code",
   "execution_count": 15,
   "metadata": {},
   "outputs": [
    {
     "data": {
      "text/plain": [
       "(5555,)"
      ]
     },
     "execution_count": 15,
     "metadata": {},
     "output_type": "execute_result"
    }
   ],
   "source": [
    "total_votos2 = pd.DataFrame(eleitos.groupby([\"id_municipio_tse\"]).votos.sum())\n",
    "\n",
    "eleitos = eleitos.merge(total_votos2, how='inner', on='id_municipio_tse')\n",
    "\n",
    "eleitos.rename(columns = {\"votos_x\": \"votos\", \"votos_y\": \"total_votos\"}, inplace=True)\n",
    "\n",
    "eleitos[\"%votos\"] = (eleitos.votos / eleitos.total_votos).round(5)\n",
    "\n",
    "eleitos.shape\n",
    "\n",
    "eleitos[\"id_municipio_tse\"].unique().shape"
   ]
  },
  {
   "cell_type": "code",
   "execution_count": 16,
   "metadata": {},
   "outputs": [],
   "source": [
    "grupo = pd.DataFrame(eleitos[eleitos[\"teve_2_turno\"] == 0].groupby([\"id_municipio_tse\"])[\"%votos\"].nlargest(2).reset_index())"
   ]
  },
  {
   "cell_type": "code",
   "execution_count": 17,
   "metadata": {},
   "outputs": [
    {
     "data": {
      "text/html": [
       "<div>\n",
       "<style scoped>\n",
       "    .dataframe tbody tr th:only-of-type {\n",
       "        vertical-align: middle;\n",
       "    }\n",
       "\n",
       "    .dataframe tbody tr th {\n",
       "        vertical-align: top;\n",
       "    }\n",
       "\n",
       "    .dataframe thead th {\n",
       "        text-align: right;\n",
       "    }\n",
       "</style>\n",
       "<table border=\"1\" class=\"dataframe\">\n",
       "  <thead>\n",
       "    <tr style=\"text-align: right;\">\n",
       "      <th></th>\n",
       "      <th>id_municipio_tse</th>\n",
       "      <th>level_1</th>\n",
       "      <th>%votos</th>\n",
       "    </tr>\n",
       "  </thead>\n",
       "  <tbody>\n",
       "    <tr>\n",
       "      <th>0</th>\n",
       "      <td>10006</td>\n",
       "      <td>15444</td>\n",
       "      <td>0.52394</td>\n",
       "    </tr>\n",
       "    <tr>\n",
       "      <th>1</th>\n",
       "      <td>10006</td>\n",
       "      <td>15443</td>\n",
       "      <td>0.47606</td>\n",
       "    </tr>\n",
       "  </tbody>\n",
       "</table>\n",
       "</div>"
      ],
      "text/plain": [
       "  id_municipio_tse  level_1   %votos\n",
       "0            10006    15444  0.52394\n",
       "1            10006    15443  0.47606"
      ]
     },
     "execution_count": 17,
     "metadata": {},
     "output_type": "execute_result"
    }
   ],
   "source": [
    "grupo[grupo[\"id_municipio_tse\"] == '10006']"
   ]
  },
  {
   "cell_type": "code",
   "execution_count": 18,
   "metadata": {},
   "outputs": [],
   "source": [
    "dif_votos = grupo.groupby([\"id_municipio_tse\"]).diff(periods=-1)"
   ]
  },
  {
   "cell_type": "code",
   "execution_count": 19,
   "metadata": {},
   "outputs": [],
   "source": [
    "dif_votos.drop(columns = \"level_1\", inplace = True)"
   ]
  },
  {
   "cell_type": "code",
   "execution_count": 20,
   "metadata": {},
   "outputs": [],
   "source": [
    "dif_votos.rename(columns = {\"%votos\": \"dif_votos\"}, inplace = True)\n",
    "\n",
    "grupo = grupo.join(dif_votos)\n",
    "\n",
    "grupo = grupo.drop(columns = \"level_1\")"
   ]
  },
  {
   "cell_type": "code",
   "execution_count": 23,
   "metadata": {},
   "outputs": [],
   "source": [
    "grupo = grupo.dropna()\n",
    "\n",
    "grupo = grupo.drop(columns = \"%votos\")\n",
    "\n",
    "eleitos = eleitos.merge(grupo, how = \"inner\", on = \"id_municipio_tse\")"
   ]
  },
  {
   "cell_type": "code",
   "execution_count": 26,
   "metadata": {},
   "outputs": [],
   "source": [
    "cpfs_rdd = tuple(eleitos[eleitos[\"dif_votos\"] <= 0.10].cpf.unique())"
   ]
  },
  {
   "cell_type": "code",
   "execution_count": 27,
   "metadata": {},
   "outputs": [
    {
     "data": {
      "text/plain": [
       "7516"
      ]
     },
     "execution_count": 27,
     "metadata": {},
     "output_type": "execute_result"
    }
   ],
   "source": [
    "len(cpfs_rdd)"
   ]
  },
  {
   "cell_type": "markdown",
   "metadata": {},
   "source": [
    "## Criando função para procurar os cpfs eleitos na RAIS em todos os estados e em todos os anos antes de 2012"
   ]
  },
  {
   "cell_type": "code",
   "execution_count": 28,
   "metadata": {},
   "outputs": [],
   "source": [
    "import pandas as pd\n",
    "import numpy as np\n",
    "import seaborn as sns\n",
    "#import basedosdados as bd\n",
    "import pyodbc\n",
    "import re\n",
    "import time\n",
    "\n",
    "sns.set(rc={'figure.figsize':(11.7,8.27)})\n",
    "sns.set_theme(style=\"darkgrid\")"
   ]
  },
  {
   "cell_type": "code",
   "execution_count": 29,
   "metadata": {},
   "outputs": [],
   "source": [
    "server = '****'\n",
    "\n",
    "database = 'RAIS'\n",
    "\n",
    "port= '****'\n",
    "\n",
    "username = '****'\n",
    "\n",
    "password = '****'\n",
    "\n",
    "driver= '****'\n",
    "\n",
    "cnxn = pyodbc.connect('DRIVER='+driver+';SERVER='+server+';PORT='+port+';DATABASE='+database+';UID='+username+';PWD='+ password)\n",
    "\n",
    "cursor = cnxn.cursor()"
   ]
  },
  {
   "cell_type": "markdown",
   "metadata": {},
   "source": [
    "## Criando anos e estados de interesse"
   ]
  },
  {
   "cell_type": "code",
   "execution_count": 30,
   "metadata": {},
   "outputs": [],
   "source": [
    "anos =[2003]\n",
    "for i in range(2018-anos[0]):\n",
    "    anos.append(anos[-1] + 1)"
   ]
  },
  {
   "cell_type": "code",
   "execution_count": 31,
   "metadata": {},
   "outputs": [],
   "source": [
    "estados = list(eleitos.sigla_uf.unique())"
   ]
  },
  {
   "cell_type": "markdown",
   "metadata": {},
   "source": [
    "## Criando função para vuscar e limpar a base na RAIS"
   ]
  },
  {
   "cell_type": "code",
   "execution_count": 32,
   "metadata": {},
   "outputs": [],
   "source": [
    "df = pd.DataFrame()"
   ]
  },
  {
   "cell_type": "code",
   "execution_count": 34,
   "metadata": {},
   "outputs": [],
   "source": [
    "def rais(ano,estado):\n",
    "    global df\n",
    "   \n",
    "    if ano >= 2011:\n",
    "        consulta_1 = \"\"\" SELECT\n",
    "                    a.CPF cpf,\n",
    "                    a.[Nome Trabalhador] nome,\n",
    "                    a.[Município] id_municipio,\n",
    "                    a.[Sexo Trabalhador] sexo,\n",
    "                    a.[Raça Cor] raca,\n",
    "                    a.[Idade] idade,\n",
    "                    a.[CNPJ Raiz] cnpj_raiz,\n",
    "                    a.[CBO Ocupação 2002] cbo_2002,\n",
    "                    a.[CNAE 2 0 Classe] as cnae,\n",
    "                    a.[Vl Remun Dezembro Nom] rem_dez,\n",
    "\n",
    "                    a.[Data Admissão Declarada] data_adm,\n",
    "                    a.[Tempo Emprego] tenure,\n",
    "                    a.[Vínculo Ativo 31 12] vinc_ativ3112\n",
    "                    FROM dbo.{}{}ID a\n",
    "                    WHERE a.[Vínculo Ativo 31 12] != '0'\n",
    "                    AND a.[Vínculo Ativo 31 12] != '0'\n",
    "                    AND a.[Vínculo Ativo 31 12] != ' 0'\n",
    "                    AND a.[Vínculo Ativo 31 12] != 0\n",
    "                   \"\"\".format(estado,ano)\n",
    "        \n",
    "        df_provisorio = pd.read_sql(consulta_1,  cnxn)\n",
    "        \n",
    "        df_provisorio[\"Ano\"] = ano\n",
    "        df_provisorio[\"Estado\"] = estado\n",
    "        \n",
    "        df_provisorio['cpf'] = df_provisorio['cpf'].str.strip()\n",
    "\n",
    "        df_provisorio = df_provisorio.query(\"cpf in @cpfs_rdd\")\n",
    "    \n",
    "        df_provisorio.loc[(df_provisorio['vinc_ativ3112'] == ' 1') |\n",
    "                      (df_provisorio['vinc_ativ3112'] == '1')  |\n",
    "                      (df_provisorio['vinc_ativ3112'] == 'True'), 'vinc_ativ3112'] = 1\n",
    "    \n",
    "        df_provisorio.loc[(df_provisorio['vinc_ativ3112'] == ' 0') |\n",
    "                      (df_provisorio['vinc_ativ3112'] == '0')  |\n",
    "                      (df_provisorio['vinc_ativ3112'] == 'False'),'vinc_ativ3112'] = 0\n",
    "           \n",
    "        df = pd.concat([df, df_provisorio])\n",
    "           \n",
    "        print(f\"foi criado um df de tamanho {len(df)}\")\n",
    "\n",
    "    elif ano >= 2006:\n",
    "        \n",
    "        consulta_1 = \"\"\" SELECT\n",
    "                        a.CPF cpf,\n",
    "                        a.[NOME] nome,\n",
    "                        a.[MUNICIPIO] id_municipio,\n",
    "                        a.[GENERO] sexo,\n",
    "                        a.[RACA_COR] raca,\n",
    "                        a.[DT NASCIMENT] dt_nasc,\n",
    "                        a.[RADIC CNPJ] cnpj_raiz,\n",
    "                        a.[OCUP 2002] cbo_2002,\n",
    "                        a.[SB CLAS 20] as sbclas20,\n",
    "                        a.[REM DEZEMBRO] rem_dez,\n",
    "\n",
    "                        a.[DT ADMISSAO] data_adm,\n",
    "                        a.[TEMP EMPR] tenure,\n",
    "                        a.[EMP EM 31 12] vinc_ativ3112\n",
    "                        FROM dbo.{}{}ID a\n",
    "                        WHERE a.[EMP EM 31 12] != '0'\n",
    "                        AND a.[EMP EM 31 12] != '0'\n",
    "                        AND a.[EMP EM 31 12] != ' 0'\n",
    "                        AND a.[EMP EM 31 12] != 0\n",
    "                       \"\"\".format(estado,ano)\n",
    "        df_provisorio = pd.read_sql(consulta_1,  cnxn)\n",
    "        \n",
    "        df_provisorio[\"Ano\"] = ano\n",
    "        df_provisorio[\"Estado\"] = estado\n",
    "        \n",
    "        df_provisorio['cpf'] = df_provisorio['cpf'].str.strip()\n",
    "        \n",
    "        df_provisorio = df_provisorio.query(\"cpf in @cpfs_rdd\")\n",
    "\n",
    "    \n",
    "        df_provisorio.loc[(df_provisorio['vinc_ativ3112'] == ' 1') |\n",
    "                      (df_provisorio['vinc_ativ3112'] == '1')  |\n",
    "                      (df_provisorio['vinc_ativ3112'] == 'True'), 'vinc_ativ3112'] = 1\n",
    "    \n",
    "        df_provisorio.loc[(df_provisorio['vinc_ativ3112'] == ' 0') |\n",
    "                      (df_provisorio['vinc_ativ3112'] == '0')  |\n",
    "                      (df_provisorio['vinc_ativ3112'] == 'False'),'vinc_ativ3112'] = 0\n",
    "           \n",
    "        df = pd.concat([df, df_provisorio])\n",
    "           \n",
    "        print(f\"foi criado um df de tamanho {len(df)}\")\n",
    "        \n",
    "        \n",
    "    else:\n",
    "        \n",
    "        consulta_1 = \"\"\" SELECT\n",
    "                        a.CPF cpf,\n",
    "                        a.[NOME] nome,\n",
    "                        a.[MUNICIPIO] id_municipio,\n",
    "                        a.[SEXO] sexo,\n",
    "                        a.[RACA_COR] raca,\n",
    "                        a.[DT NASCIMENT] dt_nasc,\n",
    "                        a.[RADIC CNPJ] cnpj_raiz,\n",
    "                        a.[OCUP 2002] cbo_2002,\n",
    "                        a.[CLAS CNAE 95] as cnae_95,\n",
    "                        a.[REM DEZEMBRO] rem_dez,\n",
    "\n",
    "                        a.[DT ADMISSAO] data_adm,\n",
    "                        a.[TEMP EMPR] tenure,\n",
    "                        a.[EMP EM 31 12] vinc_ativ3112\n",
    "                        FROM dbo.{}{}ID a\n",
    "                        WHERE a.[EMP EM 31 12] != '0'\n",
    "                        AND a.[EMP EM 31 12] != '0'\n",
    "                        AND a.[EMP EM 31 12] != ' 0'\n",
    "                        AND a.[EMP EM 31 12] != 0\n",
    "                       \"\"\".format(estado,ano)\n",
    "        df_provisorio = pd.read_sql(consulta_1,  cnxn)\n",
    "        \n",
    "        df_provisorio[\"Ano\"] = ano\n",
    "        df_provisorio[\"Estado\"] = estado\n",
    "        \n",
    "        df_provisorio['cpf'] = df_provisorio['cpf'].str.strip()\n",
    "        \n",
    "        df_provisorio = df_provisorio.query(\"cpf in @cpfs_rdd\")\n",
    "\n",
    "    \n",
    "        df_provisorio.loc[(df_provisorio['vinc_ativ3112'] == ' 1') |\n",
    "                      (df_provisorio['vinc_ativ3112'] == '1')  |\n",
    "                      (df_provisorio['vinc_ativ3112'] == 'True'), 'vinc_ativ3112'] = 1\n",
    "    \n",
    "        df_provisorio.loc[(df_provisorio['vinc_ativ3112'] == ' 0') |\n",
    "                      (df_provisorio['vinc_ativ3112'] == '0')  |\n",
    "                      (df_provisorio['vinc_ativ3112'] == 'False'),'vinc_ativ3112'] = 0\n",
    "           \n",
    "        df = pd.concat([df, df_provisorio])\n",
    "           \n",
    "        print(f\"foi criado um df de tamanho {len(df)}\")"
   ]
  },
  {
   "cell_type": "code",
   "execution_count": null,
   "metadata": {},
   "outputs": [
    {
     "name": "stdout",
     "output_type": "stream",
     "text": [
      "foi criado um df de tamanho 67\n",
      "foi criado um df de tamanho 314\n"
     ]
    }
   ],
   "source": [
    "start_time = time.time()\n",
    "\n",
    "for x in estados:\n",
    "    for i in anos:\n",
    "        rais(i,x)\n",
    "    \n",
    "print(\"My program took\", time.time() - start_time, \"to run\")"
   ]
  },
  {
   "cell_type": "code",
   "execution_count": null,
   "metadata": {
    "scrolled": true
   },
   "outputs": [],
   "source": [
    "df.info()"
   ]
  },
  {
   "cell_type": "code",
   "execution_count": null,
   "metadata": {},
   "outputs": [],
   "source": [
    "df.head().T"
   ]
  },
  {
   "cell_type": "code",
   "execution_count": null,
   "metadata": {},
   "outputs": [],
   "source": [
    "df['cbo_2002'] = df['cbo_2002'].str.extract('(\\d+)').astype(str)"
   ]
  },
  {
   "cell_type": "code",
   "execution_count": null,
   "metadata": {},
   "outputs": [],
   "source": [
    "tabela = pd.DataFrame(df.groupby('cbo_2002')['cbo_2002'].count().nlargest(20))"
   ]
  },
  {
   "cell_type": "code",
   "execution_count": null,
   "metadata": {},
   "outputs": [],
   "source": [
    "tabela[\"cbos\"] = tabela.index"
   ]
  },
  {
   "cell_type": "code",
   "execution_count": null,
   "metadata": {},
   "outputs": [],
   "source": [
    "top_20_cbos = tuple(tabela.cbos)"
   ]
  },
  {
   "cell_type": "markdown",
   "metadata": {},
   "source": [
    "## Procurando cbos na BD+"
   ]
  },
  {
   "cell_type": "code",
   "execution_count": null,
   "metadata": {},
   "outputs": [],
   "source": [
    "import basedosdados as bd\n",
    "\n",
    "query = \"\"\" SELECT * FROM `basedosdados.br_ibge_cbo_2002.sinonimo`\n",
    "            WHERE cbo_2002 IN {} \"\"\".format(top_20_cbos)\n",
    "\n",
    "tabela_top_20_cbos = bd.read_sql(query, billing_project_id= \"econometria-314719\")"
   ]
  },
  {
   "cell_type": "code",
   "execution_count": null,
   "metadata": {
    "scrolled": true
   },
   "outputs": [],
   "source": [
    "tabela_top_20_cbos"
   ]
  },
  {
   "cell_type": "markdown",
   "metadata": {},
   "source": [
    "# Gerando variável de tempo trabalhado em profissão STEM \"stem_tenure\""
   ]
  },
  {
   "cell_type": "code",
   "execution_count": null,
   "metadata": {},
   "outputs": [],
   "source": [
    "lista = list(df[\"tenure\"])"
   ]
  },
  {
   "cell_type": "code",
   "execution_count": null,
   "metadata": {},
   "outputs": [],
   "source": [
    "coluna = []\n",
    "\n",
    "for i in lista:\n",
    "    if ',' in str(i).lower():  \n",
    "        coluna.append(i.replace(',', '.'))\n",
    "    else:\n",
    "        coluna.append(i)"
   ]
  },
  {
   "cell_type": "code",
   "execution_count": null,
   "metadata": {},
   "outputs": [],
   "source": [
    "df[\"teste\"] = coluna"
   ]
  },
  {
   "cell_type": "code",
   "execution_count": null,
   "metadata": {},
   "outputs": [],
   "source": [
    "df[\"teste2\"] = df['teste'].astype(float)"
   ]
  },
  {
   "cell_type": "code",
   "execution_count": null,
   "metadata": {},
   "outputs": [],
   "source": [
    "df[\"teste2\"] = df['teste2'].astype(int)"
   ]
  },
  {
   "cell_type": "code",
   "execution_count": null,
   "metadata": {},
   "outputs": [],
   "source": [
    "df_tenure = df.groupby(['cpf','cbo_2002'])['teste2'].sum().reset_index()"
   ]
  },
  {
   "cell_type": "code",
   "execution_count": null,
   "metadata": {},
   "outputs": [],
   "source": [
    "df_tenure[\"stem_job\"] = df_tenure[\"cbo_2002\"].apply(lambda x: 1 if x[0:4] in cbos_stem else 0)"
   ]
  },
  {
   "cell_type": "code",
   "execution_count": null,
   "metadata": {},
   "outputs": [],
   "source": [
    "df_tenure.query(\"stem_job == 1\").head(10).T"
   ]
  },
  {
   "cell_type": "code",
   "execution_count": null,
   "metadata": {},
   "outputs": [],
   "source": [
    "len(df_tenure.query(\"stem_job == 1\").cpf.unique())"
   ]
  },
  {
   "cell_type": "code",
   "execution_count": null,
   "metadata": {},
   "outputs": [],
   "source": [
    "len(df_tenure.query(\"stem_job == 0\").cpf.unique())"
   ]
  },
  {
   "cell_type": "code",
   "execution_count": null,
   "metadata": {},
   "outputs": [],
   "source": [
    "df_tenure_2 = df_tenure.groupby(['cpf','stem_job'])['teste2'].sum().reset_index()"
   ]
  },
  {
   "cell_type": "code",
   "execution_count": null,
   "metadata": {},
   "outputs": [],
   "source": [
    "df_tenure_2 = df_tenure_2.rename(columns = {\"teste2\": \"tenure\"})"
   ]
  },
  {
   "cell_type": "code",
   "execution_count": null,
   "metadata": {},
   "outputs": [],
   "source": [
    "df_tenure_2 = df_tenure_2.query(\"stem_job == 1\")"
   ]
  },
  {
   "cell_type": "markdown",
   "metadata": {},
   "source": [
    "# Juntar bases df_tenure_2 com df"
   ]
  },
  {
   "cell_type": "code",
   "execution_count": null,
   "metadata": {},
   "outputs": [],
   "source": [
    "df = eleitos.merge(df_tenure_2, how = \"left\", on = \"cpf\")"
   ]
  },
  {
   "cell_type": "code",
   "execution_count": null,
   "metadata": {},
   "outputs": [],
   "source": [
    "df[\"stem_job\"].fillna(0, inplace=True)"
   ]
  },
  {
   "cell_type": "code",
   "execution_count": null,
   "metadata": {},
   "outputs": [],
   "source": [
    "df[\"tenure\"].fillna(0, inplace = True)"
   ]
  },
  {
   "cell_type": "code",
   "execution_count": null,
   "metadata": {
    "scrolled": true
   },
   "outputs": [],
   "source": [
    "df.sort_values(by = \"id_municipio\")"
   ]
  },
  {
   "cell_type": "code",
   "execution_count": null,
   "metadata": {},
   "outputs": [],
   "source": [
    "(df[df[\"%votos\"] == df[\"%votos\"].max()])"
   ]
  },
  {
   "cell_type": "markdown",
   "metadata": {},
   "source": [
    "# Mantendo só os 2 primeiros colocados na base"
   ]
  },
  {
   "cell_type": "code",
   "execution_count": null,
   "metadata": {},
   "outputs": [],
   "source": [
    "df['max_votos'] = df.query(\"resultado != 'eleito'\").groupby(['id_municipio_tse'])['%votos'].transform(max)"
   ]
  },
  {
   "cell_type": "code",
   "execution_count": null,
   "metadata": {},
   "outputs": [],
   "source": [
    "lista = list(df[df['max_votos'] == df[\"%votos\"]].id_candidato_bd)"
   ]
  },
  {
   "cell_type": "code",
   "execution_count": null,
   "metadata": {},
   "outputs": [],
   "source": [
    "df[\"2_lugar\"] = df[\"id_candidato_bd\"].apply(lambda x: 1 if x in lista else 0)"
   ]
  },
  {
   "cell_type": "code",
   "execution_count": null,
   "metadata": {},
   "outputs": [],
   "source": [
    "df[\"rdd\"] = df[\"id_candidato_bd\"].apply(lambda x: 1 if x in list(df[(df[\"resultado\"] == 'eleito') | (df[\"2_lugar\"] == 1)].id_candidato_bd) else 0)"
   ]
  },
  {
   "cell_type": "code",
   "execution_count": null,
   "metadata": {},
   "outputs": [],
   "source": [
    "df.to_csv('Dados/Output/220531_base_rdd_prefeitos.csv', sep = \";\", index = False, encoding = \"utf-8-sig\")"
   ]
  },
  {
   "cell_type": "markdown",
   "metadata": {},
   "source": [
    "# Criar variável RDD se 1 colocado ou 2 colado são STEM"
   ]
  },
  {
   "cell_type": "code",
   "execution_count": null,
   "metadata": {},
   "outputs": [],
   "source": [
    "df = pd.read_csv(\"Dados/Output/220531_base_rdd_prefeitos.csv\", sep = \";\")"
   ]
  },
  {
   "cell_type": "code",
   "execution_count": null,
   "metadata": {},
   "outputs": [],
   "source": [
    "df.rename(columns = {\"rdd\": \"1_ou_2_lugar\"}, inplace = True)"
   ]
  },
  {
   "cell_type": "code",
   "execution_count": null,
   "metadata": {},
   "outputs": [],
   "source": [
    "df = df[df[\"1_ou_2_lugar\"] == 1]"
   ]
  },
  {
   "cell_type": "code",
   "execution_count": null,
   "metadata": {},
   "outputs": [],
   "source": [
    "teste = pd.DataFrame(df.groupby([\"id_municipio_tse\"]).stem_job.sum())"
   ]
  },
  {
   "cell_type": "code",
   "execution_count": null,
   "metadata": {},
   "outputs": [],
   "source": [
    "teste.rename(columns = {\"stem_job\": \"rdd\"}, inplace = True)"
   ]
  },
  {
   "cell_type": "code",
   "execution_count": null,
   "metadata": {},
   "outputs": [],
   "source": [
    "df = df.merge(teste, how = \"inner\", on = \"id_municipio_tse\")"
   ]
  },
  {
   "cell_type": "code",
   "execution_count": null,
   "metadata": {},
   "outputs": [],
   "source": [
    "df.query(\"rdd == 1\").shape"
   ]
  },
  {
   "cell_type": "code",
   "execution_count": null,
   "metadata": {},
   "outputs": [],
   "source": [
    "df.query(\"resultado == 'eleito' & rdd == 1 & stem_job == 1\").shape"
   ]
  },
  {
   "cell_type": "code",
   "execution_count": null,
   "metadata": {},
   "outputs": [],
   "source": [
    "df[\"rdd_stem_won\"] = df.cpf.apply(lambda x: 1 if x in df.query(\"resultado == 'eleito' & rdd == 1 & stem_job == 1\").cpf.unique() else 0)"
   ]
  },
  {
   "cell_type": "code",
   "execution_count": null,
   "metadata": {},
   "outputs": [],
   "source": [
    "len(df[df[\"rdd_stem_won\"] == 1])"
   ]
  },
  {
   "cell_type": "code",
   "execution_count": null,
   "metadata": {},
   "outputs": [],
   "source": [
    "df.to_csv('Dados/Output/220531_base_rdd_covid_stem.csv', sep = \";\", index = False, encoding = \"utf-8-sig\")"
   ]
  },
  {
   "cell_type": "markdown",
   "metadata": {},
   "source": [
    "# Pegando óbitos por COVID"
   ]
  },
  {
   "cell_type": "code",
   "execution_count": 92,
   "metadata": {},
   "outputs": [],
   "source": [
    "df_obitos = pd.read_csv(\"RAIS/Dados/Input/caso.csv\")"
   ]
  },
  {
   "cell_type": "markdown",
   "metadata": {},
   "source": [
    "fonte: https://brasil.io/dataset/covid19/caso/?search=&date=2022-01-01&state=&city=&place_type=city&is_last=&city_ibge_code=&order_for_place="
   ]
  },
  {
   "cell_type": "code",
   "execution_count": 93,
   "metadata": {},
   "outputs": [],
   "source": [
    "df_obitos = df_obitos.query(\"place_type == 'city'\")"
   ]
  },
  {
   "cell_type": "code",
   "execution_count": 94,
   "metadata": {},
   "outputs": [
    {
     "data": {
      "text/html": [
       "<div>\n",
       "<style scoped>\n",
       "    .dataframe tbody tr th:only-of-type {\n",
       "        vertical-align: middle;\n",
       "    }\n",
       "\n",
       "    .dataframe tbody tr th {\n",
       "        vertical-align: top;\n",
       "    }\n",
       "\n",
       "    .dataframe thead th {\n",
       "        text-align: right;\n",
       "    }\n",
       "</style>\n",
       "<table border=\"1\" class=\"dataframe\">\n",
       "  <thead>\n",
       "    <tr style=\"text-align: right;\">\n",
       "      <th></th>\n",
       "      <th>date</th>\n",
       "      <th>state</th>\n",
       "      <th>city</th>\n",
       "      <th>place_type</th>\n",
       "      <th>confirmed</th>\n",
       "      <th>deaths</th>\n",
       "      <th>order_for_place</th>\n",
       "      <th>is_last</th>\n",
       "      <th>estimated_population_2019</th>\n",
       "      <th>estimated_population</th>\n",
       "      <th>city_ibge_code</th>\n",
       "      <th>confirmed_per_100k_inhabitants</th>\n",
       "      <th>death_rate</th>\n",
       "    </tr>\n",
       "  </thead>\n",
       "  <tbody>\n",
       "    <tr>\n",
       "      <th>734</th>\n",
       "      <td>2021-12-14</td>\n",
       "      <td>AP</td>\n",
       "      <td>Amapá</td>\n",
       "      <td>city</td>\n",
       "      <td>1424</td>\n",
       "      <td>13</td>\n",
       "      <td>586</td>\n",
       "      <td>True</td>\n",
       "      <td>9109.0</td>\n",
       "      <td>9187.0</td>\n",
       "      <td>1600105.0</td>\n",
       "      <td>15500.16327</td>\n",
       "      <td>0.0091</td>\n",
       "    </tr>\n",
       "    <tr>\n",
       "      <th>735</th>\n",
       "      <td>2021-12-13</td>\n",
       "      <td>AP</td>\n",
       "      <td>Amapá</td>\n",
       "      <td>city</td>\n",
       "      <td>1424</td>\n",
       "      <td>13</td>\n",
       "      <td>585</td>\n",
       "      <td>False</td>\n",
       "      <td>9109.0</td>\n",
       "      <td>9187.0</td>\n",
       "      <td>1600105.0</td>\n",
       "      <td>15500.16327</td>\n",
       "      <td>0.0091</td>\n",
       "    </tr>\n",
       "    <tr>\n",
       "      <th>736</th>\n",
       "      <td>2021-12-12</td>\n",
       "      <td>AP</td>\n",
       "      <td>Amapá</td>\n",
       "      <td>city</td>\n",
       "      <td>1424</td>\n",
       "      <td>13</td>\n",
       "      <td>584</td>\n",
       "      <td>False</td>\n",
       "      <td>9109.0</td>\n",
       "      <td>9187.0</td>\n",
       "      <td>1600105.0</td>\n",
       "      <td>15500.16327</td>\n",
       "      <td>0.0091</td>\n",
       "    </tr>\n",
       "    <tr>\n",
       "      <th>737</th>\n",
       "      <td>2021-12-11</td>\n",
       "      <td>AP</td>\n",
       "      <td>Amapá</td>\n",
       "      <td>city</td>\n",
       "      <td>1424</td>\n",
       "      <td>13</td>\n",
       "      <td>583</td>\n",
       "      <td>False</td>\n",
       "      <td>9109.0</td>\n",
       "      <td>9187.0</td>\n",
       "      <td>1600105.0</td>\n",
       "      <td>15500.16327</td>\n",
       "      <td>0.0091</td>\n",
       "    </tr>\n",
       "    <tr>\n",
       "      <th>738</th>\n",
       "      <td>2021-12-10</td>\n",
       "      <td>AP</td>\n",
       "      <td>Amapá</td>\n",
       "      <td>city</td>\n",
       "      <td>1424</td>\n",
       "      <td>13</td>\n",
       "      <td>582</td>\n",
       "      <td>False</td>\n",
       "      <td>9109.0</td>\n",
       "      <td>9187.0</td>\n",
       "      <td>1600105.0</td>\n",
       "      <td>15500.16327</td>\n",
       "      <td>0.0091</td>\n",
       "    </tr>\n",
       "  </tbody>\n",
       "</table>\n",
       "</div>"
      ],
      "text/plain": [
       "           date state   city place_type  confirmed  deaths  order_for_place  \\\n",
       "734  2021-12-14    AP  Amapá       city       1424      13              586   \n",
       "735  2021-12-13    AP  Amapá       city       1424      13              585   \n",
       "736  2021-12-12    AP  Amapá       city       1424      13              584   \n",
       "737  2021-12-11    AP  Amapá       city       1424      13              583   \n",
       "738  2021-12-10    AP  Amapá       city       1424      13              582   \n",
       "\n",
       "     is_last  estimated_population_2019  estimated_population  city_ibge_code  \\\n",
       "734     True                     9109.0                9187.0       1600105.0   \n",
       "735    False                     9109.0                9187.0       1600105.0   \n",
       "736    False                     9109.0                9187.0       1600105.0   \n",
       "737    False                     9109.0                9187.0       1600105.0   \n",
       "738    False                     9109.0                9187.0       1600105.0   \n",
       "\n",
       "     confirmed_per_100k_inhabitants  death_rate  \n",
       "734                     15500.16327      0.0091  \n",
       "735                     15500.16327      0.0091  \n",
       "736                     15500.16327      0.0091  \n",
       "737                     15500.16327      0.0091  \n",
       "738                     15500.16327      0.0091  "
      ]
     },
     "execution_count": 94,
     "metadata": {},
     "output_type": "execute_result"
    }
   ],
   "source": [
    "df_obitos.head()"
   ]
  },
  {
   "cell_type": "code",
   "execution_count": 95,
   "metadata": {},
   "outputs": [],
   "source": [
    "df_obitos = df_obitos[(df_obitos[\"date\"] >= \"2021-06-19\") & (df_obitos[\"date\"] <= \"2021-07-01\")]"
   ]
  },
  {
   "cell_type": "code",
   "execution_count": 96,
   "metadata": {},
   "outputs": [],
   "source": [
    "df_obitos['mais_recente'] = df_obitos.groupby(['city'])['date'].transform(max)"
   ]
  },
  {
   "cell_type": "code",
   "execution_count": 97,
   "metadata": {},
   "outputs": [],
   "source": [
    "df_obitos['mais_recente'] = (df_obitos[\"date\"] == df_obitos[\"mais_recente\"])"
   ]
  },
  {
   "cell_type": "code",
   "execution_count": 99,
   "metadata": {},
   "outputs": [],
   "source": [
    "df_obitos = df_obitos[df_obitos['mais_recente'] == 1]"
   ]
  },
  {
   "cell_type": "code",
   "execution_count": 102,
   "metadata": {},
   "outputs": [],
   "source": [
    "df_obitos.rename(columns = {\"city_ibge_code\": \"id_municipio\"}, inplace = True)"
   ]
  },
  {
   "cell_type": "markdown",
   "metadata": {},
   "source": [
    "# Mesclando as bases"
   ]
  },
  {
   "cell_type": "code",
   "execution_count": 103,
   "metadata": {},
   "outputs": [],
   "source": [
    "df = pd.read_csv(\"RAIS/Dados/Output/220531_base_rdd_covid_stem.csv\", sep = \";\")"
   ]
  },
  {
   "cell_type": "code",
   "execution_count": 104,
   "metadata": {},
   "outputs": [],
   "source": [
    "df = df.merge(df_obitos, how = \"left\", on = \"id_municipio\")"
   ]
  },
  {
   "cell_type": "code",
   "execution_count": 109,
   "metadata": {},
   "outputs": [
    {
     "name": "stdout",
     "output_type": "stream",
     "text": [
      "<class 'pandas.core.frame.DataFrame'>\n",
      "Int64Index: 10583 entries, 0 to 10582\n",
      "Data columns (total 40 columns):\n",
      " #   Column                          Non-Null Count  Dtype  \n",
      "---  ------                          --------------  -----  \n",
      " 0   ano                             10583 non-null  int64  \n",
      " 1   turno                           10583 non-null  int64  \n",
      " 2   sigla_uf                        10583 non-null  object \n",
      " 3   id_municipio                    10583 non-null  int64  \n",
      " 4   id_municipio_tse                10583 non-null  int64  \n",
      " 5   cargo                           10583 non-null  object \n",
      " 6   sigla_partido                   10583 non-null  object \n",
      " 7   id_candidato_bd                 10583 non-null  int64  \n",
      " 8   resultado                       10583 non-null  object \n",
      " 9   votos                           10583 non-null  int64  \n",
      " 10  cpf                             10583 non-null  int64  \n",
      " 11  nome                            10583 non-null  object \n",
      " 12  ocupacao                        10583 non-null  object \n",
      " 13  idade                           10583 non-null  int64  \n",
      " 14  genero                          10583 non-null  object \n",
      " 15  instrucao                       10583 non-null  object \n",
      " 16  teve_2_turno                    10583 non-null  int64  \n",
      " 17  total_votos                     10583 non-null  int64  \n",
      " 18  %votos                          10583 non-null  float64\n",
      " 19  dif_votos                       10583 non-null  float64\n",
      " 20  stem_job                        10583 non-null  float64\n",
      " 21  tenure                          10583 non-null  float64\n",
      " 22  max_votos                       5348 non-null   float64\n",
      " 23  2_lugar                         10583 non-null  int64  \n",
      " 24  1_ou_2_lugar                    10583 non-null  int64  \n",
      " 25  rdd                             10583 non-null  float64\n",
      " 26  rdd_stem_won                    10583 non-null  int64  \n",
      " 27  date                            10427 non-null  object \n",
      " 28  state                           10427 non-null  object \n",
      " 29  city                            10427 non-null  object \n",
      " 30  place_type                      10427 non-null  object \n",
      " 31  confirmed                       10427 non-null  float64\n",
      " 32  deaths                          10427 non-null  float64\n",
      " 33  order_for_place                 10427 non-null  float64\n",
      " 34  is_last                         10427 non-null  object \n",
      " 35  estimated_population_2019       10427 non-null  float64\n",
      " 36  estimated_population            10427 non-null  float64\n",
      " 37  confirmed_per_100k_inhabitants  10427 non-null  float64\n",
      " 38  death_rate                      10427 non-null  float64\n",
      " 39  mais_recente                    10427 non-null  object \n",
      "dtypes: float64(13), int64(13), object(14)\n",
      "memory usage: 3.3+ MB\n"
     ]
    }
   ],
   "source": [
    "df.info()"
   ]
  },
  {
   "cell_type": "markdown",
   "metadata": {},
   "source": [
    "# Salvando"
   ]
  },
  {
   "cell_type": "code",
   "execution_count": 111,
   "metadata": {},
   "outputs": [],
   "source": [
    "df.to_csv('RAIS/Dados/Output/220601_base_rdd_covid_stem.csv', sep = \";\", index = False, encoding = \"utf-8-sig\")"
   ]
  }
 ],
 "metadata": {
  "kernelspec": {
   "display_name": "Python 3 (ipykernel)",
   "language": "python",
   "name": "python3"
  },
  "language_info": {
   "codemirror_mode": {
    "name": "ipython",
    "version": 3
   },
   "file_extension": ".py",
   "mimetype": "text/x-python",
   "name": "python",
   "nbconvert_exporter": "python",
   "pygments_lexer": "ipython3",
   "version": "3.9.12"
  }
 },
 "nbformat": 4,
 "nbformat_minor": 4
}
